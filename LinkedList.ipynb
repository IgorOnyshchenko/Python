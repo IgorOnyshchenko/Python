{
 "cells": [
  {
   "cell_type": "markdown",
   "metadata": {},
   "source": [
    "# Linked List Explained"
   ]
  },
  {
   "cell_type": "markdown",
   "metadata": {},
   "source": [
    "## 1. Definition and example"
   ]
  },
  {
   "cell_type": "code",
   "execution_count": 65,
   "metadata": {},
   "outputs": [],
   "source": [
    "# single linked list NODE definition\n",
    "class Node():\n",
    "    \n",
    "    def __init__(self, x):\n",
    "        self.val = x\n",
    "        self.next = None\n",
    "        \n",
    "        \n",
    "#initialize linked list\n",
    "class LinkedList():\n",
    "    \n",
    "    def __init__(self):\n",
    "        self.head = None\n"
   ]
  },
  {
   "cell_type": "code",
   "execution_count": 111,
   "metadata": {},
   "outputs": [
    {
     "name": "stdout",
     "output_type": "stream",
     "text": [
      "1 2 3\n"
     ]
    }
   ],
   "source": [
    "# Simple example of linked list\n",
    "\n",
    "# Create a linked list object\n",
    "llist = LinkedList()\n",
    "\n",
    "# Create Head value and other Nodes\n",
    "llist.head = Node(1)\n",
    "second = Node(2)\n",
    "third = Node(3)\n",
    "\n",
    "# Linking Nodes\n",
    "llist.head.next = second\n",
    "second.next = third\n",
    "\n",
    "print(llist.head.val, llist.head.next.val, llist.head.next.next.val)\n"
   ]
  },
  {
   "cell_type": "code",
   "execution_count": 176,
   "metadata": {},
   "outputs": [],
   "source": [
    "\n",
    "# create an example of linked list out of ordinary list\n",
    "\n",
    "given_list = [0, 1, 2, 3, 4, 5, 6, 7, 8, 9]\n",
    "\n",
    "# Initialize Linked List and Head\n",
    "llist = LinkedList()\n",
    "llist.head = Node(given_list[0])\n",
    "\n",
    "# Transform given list to list of Nodes\n",
    "node_array = []\n",
    "for i in given_list[1:]:\n",
    "    node_array.append(Node(i))\n",
    "\n",
    "# Making connection (linking) between each Node\n",
    "for i in range(len(node_array[:-1])):\n",
    "    node_array[i].next = node_array[i+1]\n",
    "\n",
    "# Linking Head with all other Nodes\n",
    "llist.head.next = node_array[0]\n"
   ]
  },
  {
   "cell_type": "code",
   "execution_count": 164,
   "metadata": {},
   "outputs": [
    {
     "data": {
      "text/plain": [
       "(0, 1, 2, 3, 4)"
      ]
     },
     "execution_count": 164,
     "metadata": {},
     "output_type": "execute_result"
    }
   ],
   "source": [
    "llist.head.val, llist.head.next.val, llist.head.next.next.val, llist.head.next.next.next.val, llist.head.next.next.next.next.val,"
   ]
  },
  {
   "cell_type": "markdown",
   "metadata": {},
   "source": [
    "## 2. Remove element after N-th Node of the Linked List"
   ]
  },
  {
   "cell_type": "code",
   "execution_count": 160,
   "metadata": {},
   "outputs": [],
   "source": [
    "def Remove_nth_element(llist, n):\n",
    "    first = Node(None)\n",
    "    first.next = llist.head\n",
    "\n",
    "    for i in range(n):\n",
    "        if first.next == None:\n",
    "            return None\n",
    "        first = first.next\n",
    "\n",
    "    first.next = first.next.next\n",
    "    return llist\n",
    "\n",
    "llist = Remove_nth_element(llist, 3)\n"
   ]
  },
  {
   "cell_type": "code",
   "execution_count": 161,
   "metadata": {},
   "outputs": [
    {
     "data": {
      "text/plain": [
       "(0, 1, 2, 4, 5)"
      ]
     },
     "execution_count": 161,
     "metadata": {},
     "output_type": "execute_result"
    }
   ],
   "source": [
    "llist.head.val, llist.head.next.val, llist.head.next.next.val, llist.head.next.next.next.val, llist.head.next.next.next.next.val,"
   ]
  },
  {
   "cell_type": "markdown",
   "metadata": {},
   "source": [
    "## 3. Remove N-th Node from the end of Linked List"
   ]
  },
  {
   "cell_type": "code",
   "execution_count": 177,
   "metadata": {},
   "outputs": [],
   "source": [
    "def Remove_nth_element_from_end(llist, n):\n",
    "    first = Node(None)\n",
    "    first.next = llist.head\n",
    "    \n",
    "    second = Node(None)\n",
    "    second.next = llist.head\n",
    "    \n",
    "    for i in range(n):\n",
    "        if first.next == None:\n",
    "            return None\n",
    "        first = first.next\n",
    "    \n",
    "    while first.next:\n",
    "        first = first.next\n",
    "        second = second.next\n",
    "    \n",
    "    second.next = second.next.next\n",
    "    \n",
    "    return llist\n",
    "\n",
    "llist = Remove_nth_element_from_end(llist, 8)"
   ]
  },
  {
   "cell_type": "code",
   "execution_count": 178,
   "metadata": {},
   "outputs": [
    {
     "data": {
      "text/plain": [
       "(0, 1, 3, 4, 5)"
      ]
     },
     "execution_count": 178,
     "metadata": {},
     "output_type": "execute_result"
    }
   ],
   "source": [
    "llist.head.val, llist.head.next.val, llist.head.next.next.val, llist.head.next.next.next.val, llist.head.next.next.next.next.val,"
   ]
  },
  {
   "cell_type": "code",
   "execution_count": null,
   "metadata": {},
   "outputs": [],
   "source": []
  }
 ],
 "metadata": {
  "kernelspec": {
   "display_name": "Python 3",
   "language": "python",
   "name": "python3"
  },
  "language_info": {
   "codemirror_mode": {
    "name": "ipython",
    "version": 3
   },
   "file_extension": ".py",
   "mimetype": "text/x-python",
   "name": "python",
   "nbconvert_exporter": "python",
   "pygments_lexer": "ipython3",
   "version": "3.7.4"
  }
 },
 "nbformat": 4,
 "nbformat_minor": 2
}
